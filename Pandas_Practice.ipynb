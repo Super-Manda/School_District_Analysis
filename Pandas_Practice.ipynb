{
 "cells": [
  {
   "cell_type": "code",
   "execution_count": 23,
   "id": "99986de0",
   "metadata": {},
   "outputs": [
    {
     "name": "stdout",
     "output_type": "stream",
     "text": [
      "Hernandez High School\n",
      "Figueroa High School\n",
      "Wilson High School\n",
      "Wright High School\n",
      "High School Griffin\n",
      "Type District\n",
      "High School Figueroa\n",
      "Type District\n",
      "High School Wilson\n",
      "Type Charter\n",
      "High School Wright\n",
      "Type Charter\n",
      "{'Griffin': 'District', 'Figueroa': 'District', 'Wilson': 'Charter', 'Wright': 'Charter'}\n"
     ]
    }
   ],
   "source": [
    "# Up through 4.3.4\n",
    "# List of high schools\n",
    "high_schools = [\"Hernandez High School\", \"Figueroa High School\",\n",
    "                \"Wilson High School\",\"Wright High School\"]\n",
    "\n",
    "for school in high_schools:\n",
    "    print(school)\n",
    "    \n",
    "# A dictionary of high schools and the type of school.\n",
    "high_school_types = [{\"High School\": \"Griffin\", \"Type\":\"District\"},\n",
    "                    {\"High School\": \"Figueroa\", \"Type\": \"District\"},\n",
    "                    {\"High School\": \"Wilson\", \"Type\": \"Charter\"},\n",
    "                    {\"High School\": \"Wright\", \"Type\": \"Charter\"}]\n",
    "\n",
    "# https://stackoverflow.com/questions/68372443/iterate-through-a-list-of-dictionaries\n",
    "for index in range(len(high_school_types)):\n",
    "    for key, value in high_school_types[index].items():\n",
    "        print(key,value)\n",
    "\n",
    "    # alternate method that I am trying out...\n",
    "    # Citation: code taken from https://stackoverflow.com/questions/35864007/python-3-5-iterate-through-a-list-of-dictionaries\n",
    "from collections import defaultdict\n",
    "\n",
    "HS_dict = [{\"High School\": \"Griffin\", \"Type\":\"District\"},\n",
    "                {\"High School\": \"Figueroa\", \"Type\": \"District\"},\n",
    "                    {\"High School\": \"Wilson\", \"Type\": \"Charter\"},\n",
    "                    {\"High School\": \"Wright\", \"Type\": \"Charter\"}]\n",
    "\n",
    "collect = defaultdict(dict)\n",
    "\n",
    "# \"at this moment, 'key' becomes every dict of your list of dict\" \n",
    "for key in HS_dict:\n",
    "    collect[key['High School']] = key['Type']\n",
    "\n",
    "print(dict(collect))\n",
    "\n",
    "\n"
   ]
  },
  {
   "cell_type": "code",
   "execution_count": null,
   "id": "2e54536f",
   "metadata": {},
   "outputs": [],
   "source": []
  },
  {
   "cell_type": "code",
   "execution_count": null,
   "id": "bbd8dc88",
   "metadata": {},
   "outputs": [],
   "source": []
  }
 ],
 "metadata": {
  "celltoolbar": "Raw Cell Format",
  "kernelspec": {
   "display_name": "Python 3 (ipykernel)",
   "language": "python",
   "name": "python3"
  },
  "language_info": {
   "codemirror_mode": {
    "name": "ipython",
    "version": 3
   },
   "file_extension": ".py",
   "mimetype": "text/x-python",
   "name": "python",
   "nbconvert_exporter": "python",
   "pygments_lexer": "ipython3",
   "version": "3.7.13"
  }
 },
 "nbformat": 4,
 "nbformat_minor": 5
}
