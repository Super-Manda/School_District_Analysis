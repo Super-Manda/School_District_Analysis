{
 "cells": [
  {
   "cell_type": "code",
   "execution_count": 44,
   "id": "479f8744",
   "metadata": {},
   "outputs": [
    {
     "data": {
      "text/plain": [
       "array([[0, 'Huang High    School', 'District'],\n",
       "       [1, 'Figueroa High School', 'District'],\n",
       "       [2, 'Shelton High School', 'Charter'],\n",
       "       [3, 'Hernandez High School', 'District'],\n",
       "       [4, 'Griffin High School', 'Charter'],\n",
       "       [5, 'Wilson High School', 'Charter'],\n",
       "       [6, 'Cabrera High School', 'Charter'],\n",
       "       [7, 'Bailey High School', 'District'],\n",
       "       [8, 'Holden High School', 'Charter'],\n",
       "       [9, 'Pena High School', 'Charter'],\n",
       "       [10, 'Wright High School', 'Charter'],\n",
       "       [11, 'Rodriguez High School', 'District'],\n",
       "       [12, 'Johnson High School', 'District'],\n",
       "       [13, 'Ford High School', 'District'],\n",
       "       [14, 'Thomas High School', 'Charter']], dtype=object)"
      ]
     },
     "execution_count": 44,
     "metadata": {},
     "output_type": "execute_result"
    }
   ],
   "source": [
    "# 4.3.5\n",
    "\n",
    "# Add the Pandas dependency.\n",
    "import pandas as pd\n",
    "\n",
    "# Create a Pandas Series from a list.\n",
    "school_series = pd.Series(high_schools)\n",
    "\n",
    "# Create a Pandas Series from a list.\n",
    "school_series = pd.Series(high_schools)\n",
    "school_series\n",
    "\n",
    "# A dictionary of high schools\n",
    "high_school_dicts = [{\"School ID\": 0, \"school_name\": \"Huang High    School\", \"type\": \"District\"},\n",
    "                   {\"School ID\": 1, \"school_name\": \"Figueroa High School\", \"type\": \"District\"},\n",
    "                    {\"School ID\": 2, \"school_name\":\"Shelton High School\", \"type\": \"Charter\"},\n",
    "                    {\"School ID\": 3, \"school_name\":\"Hernandez High School\", \"type\": \"District\"},\n",
    "                    {\"School ID\": 4, \"school_name\":\"Griffin High School\", \"type\": \"Charter\"},\n",
    "                    {\"School ID\": 5, \"school_name\":\"Wilson High School\", \"type\": \"Charter\"},\n",
    "                    {\"School ID\": 6, \"school_name\":\"Cabrera High School\", \"type\": \"Charter\"},\n",
    "                    {\"School ID\": 7, \"school_name\":\"Bailey High School\", \"type\": \"District\"},\n",
    "                    {\"School ID\": 8, \"school_name\":\"Holden High School\", \"type\": \"Charter\"},\n",
    "                    {\"School ID\": 9, \"school_name\":\"Pena High School\", \"type\": \"Charter\"},\n",
    "                    {\"School ID\": 10, \"school_name\":\"Wright High School\", \"type\": \"Charter\"},\n",
    "                    {\"School ID\": 11, \"school_name\": \"Rodriguez High School\", \"type\": \"District\"},\n",
    "                    {\"School ID\": 12, \"school_name\": \"Johnson High School\", \"type\": \"District\"},\n",
    "                    {\"School ID\": 13, \"school_name\": \"Ford High School\", \"type\": \"District\"},\n",
    "                    {\"School ID\": 14, \"school_name\":\"Thomas High School\", \"type\": \"Charter\"}]\n",
    "                     \n",
    "school_df = pd.DataFrame(high_school_dicts)\n",
    "school_df\n",
    "\n",
    "# Three separate lists of information on high schools\n",
    "school_id = [0, 1, 2, 3, 4, 5, 6, 7, 8, 9, 10, 11, 12, 13, 14]\n",
    "\n",
    "school_name = [\"Huang High School\", \"Figueroa High School\", \"Shelton High School\", \"Hernandez High School\",\n",
    "               \"Griffin High School\", \"Wilson High School\", \"Cabrera High School\", \"Bailey High School\", \n",
    "               \"Holden High School\", \"Pena High School\", \"Wright High School\", \"Rodriguez High School\", \n",
    "               \"Johnson High School\", \"Ford High School\", \"Thomas High School\"]\n",
    "\n",
    "type_of_school = [\"District\", \"District\", \"Charter\", \"District\", \"Charter\", \"Charter\", \"Charter\", \"District\", \"Charter\", \"Charter\", \"Charter\", \"District\", \"District\", \"District\", \"Charter\"]\n",
    "\n",
    "# Initialize a new DataFrame.\n",
    "schools_df = pd.DataFrame()\n",
    "\n",
    "# Add the list to a new DataFrame.\n",
    "schools_df[\"School ID\"] = school_id\n",
    "\n",
    "# Print the DataFrame.\n",
    "schools_df\n",
    "\n",
    "# Create a dictionary of information on high schools.\n",
    "high_schools_dict = {'School ID': school_id, 'school_name':school_name, 'type':type_of_school}\n",
    "\n",
    "school_df.columns\n",
    "school_df.index\n",
    "school_df.values"
   ]
  },
  {
   "cell_type": "code",
   "execution_count": null,
   "id": "6987b44f",
   "metadata": {},
   "outputs": [],
   "source": []
  },
  {
   "cell_type": "code",
   "execution_count": null,
   "id": "79732c48",
   "metadata": {},
   "outputs": [],
   "source": []
  }
 ],
 "metadata": {
  "celltoolbar": "Raw Cell Format",
  "kernelspec": {
   "display_name": "Python 3 (ipykernel)",
   "language": "python",
   "name": "python3"
  },
  "language_info": {
   "codemirror_mode": {
    "name": "ipython",
    "version": 3
   },
   "file_extension": ".py",
   "mimetype": "text/x-python",
   "name": "python",
   "nbconvert_exporter": "python",
   "pygments_lexer": "ipython3",
   "version": "3.7.13"
  }
 },
 "nbformat": 4,
 "nbformat_minor": 5
}
